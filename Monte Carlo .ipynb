{
 "cells": [
  {
   "cell_type": "code",
   "execution_count": 1,
   "metadata": {
    "collapsed": true
   },
   "outputs": [],
   "source": [
    "import random\n",
    "from numpy.random import choice as ch"
   ]
  },
  {
   "cell_type": "code",
   "execution_count": 2,
   "metadata": {},
   "outputs": [],
   "source": [
    " def walk_random(n):\n",
    "#  Return coordinates after n blocks random walk     \n",
    "        x, y = 0, 0\n",
    "        for i in range(n):\n",
    "            (dx,dy) = random.choice([(0,1),(1,0),(0,-1),(-1,0)])\n",
    "            x += dx\n",
    "            y += dy\n",
    "        return(x, y)\n",
    "            \n",
    "        "
   ]
  },
  {
   "cell_type": "code",
   "execution_count": 3,
   "metadata": {},
   "outputs": [],
   "source": [
    " def walk (n):\n",
    "#  Return coordinates after n blocks random walk     \n",
    "        x, y = 0, 0\n",
    "        for i in range(n):\n",
    "            (dx,dy) = random.choice([(0,1),(1,0),(0,-1),(-1,0)])\n",
    "            x += dx\n",
    "            y += dy\n",
    "        return(x, y)"
   ]
  },
  {
   "cell_type": "code",
   "execution_count": 4,
   "metadata": {},
   "outputs": [
    {
     "data": {
      "text/plain": [
       "(0, 1)"
      ]
     },
     "execution_count": 4,
     "metadata": {},
     "output_type": "execute_result"
    }
   ],
   "source": [
    "walk (3)"
   ]
  },
  {
   "cell_type": "code",
   "execution_count": 5,
   "metadata": {},
   "outputs": [],
   "source": [
    "def randmo_risk(n):\n",
    "    # retern random risk value \n",
    "    rv, risk = 0, 0\n",
    "    for i in range(n):\n",
    "        \n",
    "        rv_temp = ch([(1000),(250),(300),(800)],1,p=[0.1,0.7,0.1,0.1])\n",
    "        #print(rv_temp)\n",
    "        rv += rv_temp\n",
    "        \n",
    "     \n",
    "    risk = float(rv) / n\n",
    "    \n",
    "    print(risk)\n",
    "    \n",
    "    "
   ]
  },
  {
   "cell_type": "code",
   "execution_count": 6,
   "metadata": {},
   "outputs": [
    {
     "name": "stdout",
     "output_type": "stream",
     "text": [
      "379.65\n"
     ]
    }
   ],
   "source": [
    "randmo_risk(1000)"
   ]
  },
  {
   "cell_type": "code",
   "execution_count": 7,
   "metadata": {},
   "outputs": [
    {
     "name": "stdout",
     "output_type": "stream",
     "text": [
      "(-2, -1) Distance from home =  3\n",
      "(3, 0) Distance from home =  3\n",
      "(-4, 1) Distance from home =  5\n",
      "(0, -1) Distance from home =  1\n",
      "(1, 0) Distance from home =  1\n",
      "(0, 1) Distance from home =  1\n",
      "(3, 0) Distance from home =  3\n",
      "(-8, -1) Distance from home =  9\n",
      "(1, -2) Distance from home =  3\n",
      "(-4, -1) Distance from home =  5\n",
      "(1, -2) Distance from home =  3\n",
      "(-1, 4) Distance from home =  5\n",
      "(0, -3) Distance from home =  3\n",
      "(-1, -2) Distance from home =  3\n",
      "(1, 4) Distance from home =  5\n",
      "(1, -4) Distance from home =  5\n",
      "(5, -6) Distance from home =  11\n",
      "(2, 1) Distance from home =  3\n",
      "(2, -3) Distance from home =  5\n",
      "(-4, -1) Distance from home =  5\n",
      "(3, -2) Distance from home =  5\n",
      "(-1, 2) Distance from home =  3\n",
      "(-5, -2) Distance from home =  7\n",
      "(0, -3) Distance from home =  3\n",
      "(-6, -1) Distance from home =  7\n"
     ]
    }
   ],
   "source": [
    "for i in range(25):\n",
    "    walk = walk_random(25)\n",
    "    print(walk, \"Distance from home = \", \n",
    "             abs(walk[0]) + abs(walk[1]))"
   ]
  },
  {
   "cell_type": "code",
   "execution_count": 14,
   "metadata": {},
   "outputs": [
    {
     "name": "stdout",
     "output_type": "stream",
     "text": [
      "Walk size =  1  / % of no transport =  100.0\n",
      "Walk size =  2  / % of no transport =  100.0\n",
      "Walk size =  3  / % of no transport =  100.0\n",
      "Walk size =  4  / % of no transport =  100.0\n",
      "Walk size =  5  / % of no transport =  100.0\n",
      "Walk size =  6  / % of no transport =  94.10333333333334\n",
      "Walk size =  7  / % of no transport =  96.72333333333333\n",
      "Walk size =  8  / % of no transport =  86.57333333333334\n",
      "Walk size =  9  / % of no transport =  92.48666666666666\n",
      "Walk size =  10  / % of no transport =  79.66333333333333\n",
      "Walk size =  11  / % of no transport =  87.33666666666666\n",
      "Walk size =  12  / % of no transport =  73.03333333333333\n",
      "Walk size =  13  / % of no transport =  82.20333333333333\n",
      "Walk size =  14  / % of no transport =  66.68333333333332\n",
      "Walk size =  15  / % of no transport =  77.51\n",
      "Walk size =  16  / % of no transport =  62.13666666666666\n",
      "Walk size =  17  / % of no transport =  73.42666666666666\n",
      "Walk size =  18  / % of no transport =  58.57666666666667\n",
      "Walk size =  19  / % of no transport =  69.05\n",
      "Walk size =  20  / % of no transport =  53.459999999999994\n",
      "Walk size =  21  / % of no transport =  66.04333333333334\n",
      "Walk size =  22  / % of no transport =  50.55333333333333\n",
      "Walk size =  23  / % of no transport =  62.55333333333334\n",
      "Walk size =  24  / % of no transport =  47.486666666666665\n",
      "Walk size =  25  / % of no transport =  59.833333333333336\n",
      "Walk size =  26  / % of no transport =  45.6\n",
      "Walk size =  27  / % of no transport =  56.34\n",
      "Walk size =  28  / % of no transport =  43.24\n",
      "Walk size =  29  / % of no transport =  53.766666666666666\n",
      "Walk size =  30  / % of no transport =  41.31333333333333\n",
      "Walk size =  31  / % of no transport =  51.73\n",
      "Walk size =  32  / % of no transport =  39.193333333333335\n",
      "Walk size =  33  / % of no transport =  49.803333333333335\n",
      "Walk size =  34  / % of no transport =  36.99666666666667\n",
      "Walk size =  35  / % of no transport =  47.586666666666666\n",
      "Walk size =  36  / % of no transport =  35.620000000000005\n",
      "Walk size =  37  / % of no transport =  46.09666666666667\n",
      "Walk size =  38  / % of no transport =  34.150000000000006\n",
      "Walk size =  39  / % of no transport =  43.556666666666665\n",
      "Walk size =  40  / % of no transport =  32.97333333333333\n"
     ]
    }
   ],
   "source": [
    "number_of_walks = 30000\n",
    "\n",
    "for walk_length in range(1,41):\n",
    "    no_transport= 0 # Number of walks 4 or fewer blocks from home\n",
    "    for i in range(number_of_walks):\n",
    "        (x,y) = walk_random(walk_length)\n",
    "        distance = abs(x) + abs(y)\n",
    "        if distance <= 5:\n",
    "            no_transport +=1\n",
    "    no_transport_percentage = float(no_transport) / number_of_walks\n",
    "    print(\"Walk size = \", walk_length, \n",
    "         \" / % of no transport = \", 100*no_transport_percentage)    "
   ]
  },
  {
   "cell_type": "code",
   "execution_count": null,
   "metadata": {},
   "outputs": [],
   "source": []
  }
 ],
 "metadata": {
  "kernelspec": {
   "display_name": "Python 3",
   "language": "python",
   "name": "python3"
  },
  "language_info": {
   "codemirror_mode": {
    "name": "ipython",
    "version": 3
   },
   "file_extension": ".py",
   "mimetype": "text/x-python",
   "name": "python",
   "nbconvert_exporter": "python",
   "pygments_lexer": "ipython3",
   "version": "3.7.3"
  }
 },
 "nbformat": 4,
 "nbformat_minor": 2
}
